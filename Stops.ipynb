{
  "nbformat": 4,
  "nbformat_minor": 0,
  "metadata": {
    "colab": {
      "provenance": [],
      "mount_file_id": "1eck4VQIX2flFTV8pwbDG1R3fOYDoUflX",
      "authorship_tag": "ABX9TyPw2LbqhOy6JvfCsF7HqYqo",
      "include_colab_link": true
    },
    "kernelspec": {
      "name": "python3",
      "display_name": "Python 3"
    },
    "language_info": {
      "name": "python"
    }
  },
  "cells": [
    {
      "cell_type": "markdown",
      "metadata": {
        "id": "view-in-github",
        "colab_type": "text"
      },
      "source": [
        "<a href=\"https://colab.research.google.com/github/charlesrugg/code_examples/blob/main/Stops.ipynb\" target=\"_parent\"><img src=\"https://colab.research.google.com/assets/colab-badge.svg\" alt=\"Open In Colab\"/></a>"
      ]
    },
    {
      "cell_type": "code",
      "source": [
        "from google.colab import files\n",
        "uploaded = files.upload()"
      ],
      "metadata": {
        "id": "ukYKBWkrazmG"
      },
      "execution_count": null,
      "outputs": []
    },
    {
      "cell_type": "code",
      "execution_count": null,
      "metadata": {
        "id": "qt8d9P_tX3O0"
      },
      "outputs": [],
      "source": [
        "import pandas as pd\n",
        "import matplotlib.pyplot as plt\n",
        "import numpy as np\n",
        "\n",
        "# Load the data into a pandas DataFrame\n",
        "df = pd.read_csv(\"input.csv\", parse_dates=['Date'], index_col='Date', na_values=['N/A', '-'])\n",
        "\n",
        "# Select all object columns\n",
        "object_cols = df.select_dtypes(include=['object']).columns\n",
        "\n",
        "# Convert object columns to numeric\n",
        "df[object_cols] = df[object_cols].apply(pd.to_numeric, errors='coerce')\n",
        "\n",
        "def drop_nan_rows(df):\n",
        "    # Replace \"NaN\" strings with np.nan values\n",
        "    df = df.replace(\"NaN\", np.nan)\n",
        "\n",
        "    # Drop rows with any NaN values\n",
        "    df_filtered = df.dropna()\n",
        "\n",
        "    return df_filtered\n",
        "\n",
        "# Strip whitespace from all string fields\n",
        "df = df.apply(lambda x: x.str.strip() if x.dtype == \"object\" else x)\n",
        "#Drop NaN rows\n",
        "df = drop_nan_rows(df)\n",
        "\n",
        "df.info(verbose=True)"
      ]
    },
    {
      "cell_type": "code",
      "source": [
        "df.head\n",
        "\n",
        "df.to_csv('output.csv', encoding = 'utf-8-sig') \n",
        "files.download('output.csv')\n",
        "\n",
        "#126.25,201.0,4.942903752,23.35907591,110000.0,0.95,0.98,24.0,613.0,3030.0,70778.0,0.998363339,1.0,0.001636661,0.001636661,228.797,52.267,0.0,205.049,0.0,0.0,0.0,0.0,0.0,47.65,731.25,0.0,678.1068667,1103.453108,0.0,0.0,4133.453108,746.3860021,17434.88728,3776.386002,157.3494168,4133.453108,88212.88728,77163.0,77131.0,74218.0,72338.0,2913.0,1871.0,0.037766916,0.024257432,0.962233084,0.98,0.937858967,0.95,0.0,356.0,0.0,241.0,40.0,1234.0,2.762078396,0.061987238,0.02,0.051048314,0.1,68.0,1097.0,56.0,15.0,2.16,0.0,60.0,201.0,,,,,,,,,,,,,,,,,,,,,,,,,,,,,,,,,,,,,,,,,,,,,,,,,,,,,,,13.0,21.0,39.0,3.0,3.0,8.0,13.0,25.0,76.0,75.0,0.0,50.0,11.0,28.0,1.0,21.0,75.0,8.0,10.0,9.0,8.0,2.0,2.0,4.0,11.0,14.0,3.0,16.0,3.0,6.0,1.0,0.0,559.0,18.44884488,201.0,29.0,41.0,46.0,27.0,215.0,27.649,59.033,84.334,6.884,10.666,6.668,68.15,125.701,155.536,133.581,0.0,307.635,28.834,49.351,1.6,1.135,128.72,48.867,43.9,21.967,41.833,13.0,20.616,26.8,54.517,74.551,0.867,59.849,711.817,34.266,0.15,0.0,2348.477,0.103602778,77.50749175,,216.923,433.846,216.923"
      ],
      "metadata": {
        "id": "S3eXNmT61xlX"
      },
      "execution_count": null,
      "outputs": []
    },
    {
      "cell_type": "code",
      "source": [
        "# Create a histogram for each column\n",
        "for col in df.columns:\n",
        "    # Calculate the mean of the column\n",
        "    avg = df[col].mean()\n",
        "    \n",
        "    # Create the histogram\n",
        "    fig, ax1 = plt.subplots()\n",
        "    if col == df.columns[0]: # Check if the column is a date column\n",
        "        ax1.hist(df.index, bins='auto')\n",
        "        ax1.set_xlabel(\"Date\")\n",
        "    else:\n",
        "        ax1.hist(df[col])\n",
        "        ax1.set_xlabel(col)\n",
        "    ax1.set_ylabel(\"Count\")\n",
        "    \n",
        "    # Add a second y-axis for the mean\n",
        "    ax2 = ax1.twinx()\n",
        "    ax2.axhline(y=avg, color='r', linestyle='-')\n",
        "    ax2.set_ylabel(\"Mean\", color='r')\n",
        "    ax2.tick_params(axis='y', labelcolor='r')\n",
        "    ax2.set_ylim([0, df[col].max()])\n",
        "    \n",
        "    # Display the plot\n",
        "    plt.title(col)\n",
        "    plt.show()"
      ],
      "metadata": {
        "id": "X1U7gzMZ6A4v"
      },
      "execution_count": null,
      "outputs": []
    },
    {
      "cell_type": "code",
      "source": [
        "import pandas as pd\n",
        "import matplotlib.pyplot as plt\n",
        "import seaborn as sns\n",
        "\n",
        "# Heat map\n",
        "sns.heatmap(df.corr(), annot=False, cmap='coolwarm')\n",
        "sns.set(rc={'figure.figsize':(88,64)})\n",
        "plt.title('Heat Map')\n",
        "plt.show()"
      ],
      "metadata": {
        "id": "0-5xVzf0znMF"
      },
      "execution_count": null,
      "outputs": []
    },
    {
      "cell_type": "code",
      "source": [
        "import pandas as pd\n",
        "import matplotlib.pyplot as plt\n",
        "import seaborn as sns\n",
        "# Create a histogram for each column\n",
        "for col in df.columns[1:]:\n",
        "    # Calculate the mean and standard deviation of the column\n",
        "    avg = df[col].mean()\n",
        "    std = df[col].std()\n",
        "\n",
        "    # Resample the data to daily frequency and create a histogram\n",
        "    daily_data = df[col].resample('D').mean()\n",
        "    fig, ax1 = plt.subplots()\n",
        "    ax1.hist(daily_data, bins=30)\n",
        "    plt.figure(figsize=(10,6))\n",
        "    ax1.set_xlabel(col)\n",
        "    ax1.set_ylabel(\"Count\")\n",
        "\n",
        "    # Add a black dashed line indicating the most recent day's data\n",
        "    most_recent_day = df.loc[df.index == df.index.max()]\n",
        "    most_recent_day_value = most_recent_day[col].values[0]\n",
        "    ax1.axvline(x=most_recent_day_value, color='black', linestyle='--', label='Most Recent Day: {:.2f}'.format(most_recent_day_value))\n",
        "\n",
        "    # Add mean, median, and standard deviation lines to the plot\n",
        "    ax1.axvline(x=avg, color='red', linestyle='-', label='Mean')\n",
        "    ax1.axvline(x=daily_data.median(), color='green', linestyle='-', label='Median')\n",
        "    ax1.axvline(x=avg - std, color='orange', linestyle='-', label='Std Dev')\n",
        "    ax1.axvline(x=avg + std, color='orange', linestyle='-')\n",
        "    ax1.legend()\n",
        "\n",
        "    # Display the plot\n",
        "    plt.title(col)\n",
        "    plt.figure(figsize=(10,6))\n",
        "    plt.show()\n"
      ],
      "metadata": {
        "id": "gTFPEsKuFwQm"
      },
      "execution_count": null,
      "outputs": []
    },
    {
      "cell_type": "code",
      "source": [
        "\n",
        "\n",
        "# Create box and whisker plots for each non-date column\n",
        "non_date_cols = [col for col in df.columns[1:] if not pd.api.types.is_datetime64_any_dtype(df[col])]\n",
        "for col in non_date_cols:\n",
        "    fig, ax = plt.subplots()\n",
        "    ax.boxplot(df[col].dropna())\n",
        "    ax.set_title(col)\n",
        "    ax.set_ylabel(\"Value\")\n",
        "    plt.show()\n"
      ],
      "metadata": {
        "id": "JAJEcjpmbyWK"
      },
      "execution_count": null,
      "outputs": []
    },
    {
      "cell_type": "code",
      "source": [
        "import pandas as pd\n",
        "import matplotlib.pyplot as plt\n",
        "import seaborn as sns\n",
        "\n",
        "\n",
        "\n",
        "# Load the data into a pandas DataFrame\n",
        "df = pd.read_csv(\"stops.csv\", parse_dates=[\"Date\"], index_col=0)\n",
        "\n",
        "# Convert the 'Date' column to a datetime object\n",
        "#df['Date'] = pd.to_datetime(df['Date'])\n",
        "\n",
        "# Add a new column with the day of the week (0=Monday, 1=Tuesday, etc.)\n",
        "df['DayOfWeek'] = df.index.dayofweek\n",
        "#def drop_nan_rows(df):\n",
        "    # Drop rows with any NaN values\n",
        " #   df_filtered = df.dropna()\n",
        "\n",
        " #   return df_filtered\n",
        "\n",
        "# Drop NaN rows\n",
        "#df = drop_nan_rows(df)\n",
        "\n",
        "# Histograms\n",
        "df.hist(figsize=(10,8))\n",
        "plt.suptitle('Histograms')\n",
        "plt.show()\n",
        "\n",
        "# Box and whisker plots\n",
        "df_box = df.drop(columns=['Sum'])\n",
        "df_box.boxplot(figsize=(10,8))\n",
        "plt.title('Box and Whisker Plots')\n",
        "plt.show()\n",
        "\n",
        "# Scatter plot\n",
        "plt.scatter(df.index, df['Sum'])\n",
        "plt.xlabel('Date')\n",
        "plt.ylabel('Total Stops')\n",
        "plt.title('Scatter Plot')\n",
        "plt.show()\n",
        "\n",
        "# Line plot\n",
        "# plt.plot(df.index, df['Sum'])\n",
        "# plt.xlabel('Date')\n",
        "# plt.ylabel('Total Stops')\n",
        "# plt.title('Line Plot')\n",
        "# plt.show()\n",
        "\n",
        "# Compute the rolling 14-day moving average of 'Total Stops'\n",
        "df['MovingAverage'] = df['Sum'].rolling(window=14).mean()\n",
        "\n",
        "# Plot the 'Total Stops' column with the 14-day moving average\n",
        "sns.lineplot(x=df.index, y='Sum', data=df)\n",
        "sns.lineplot(x=df.index, y='MovingAverage', data=df)\n",
        "plt.xlabel('Date')\n",
        "plt.ylabel('Total Stops')\n",
        "plt.legend(labels=['Total Stops', 'Moving Average'])\n",
        "plt.show()\n",
        "\n",
        "# Heat map\n",
        "sns.heatmap(df.corr(), annot=True, cmap='coolwarm')\n",
        "plt.title('Heat Map')\n",
        "plt.show()\n",
        "\n",
        "# Violin plot\n",
        "df_box_melted = pd.melt(df_box)\n",
        "sns.violinplot(x='variable', y='value', data=df_box_melted)\n",
        "plt.xlabel('Columns')\n",
        "plt.ylabel('Values')\n",
        "plt.title('Violin Plot')\n",
        "plt.xticks(rotation=45)\n",
        "plt.show()\n",
        "\n"
      ],
      "metadata": {
        "id": "J-N7jWKTc2yx"
      },
      "execution_count": null,
      "outputs": []
    },
    {
      "cell_type": "code",
      "source": [
        "print(df.columns)"
      ],
      "metadata": {
        "id": "fpV0HVCl7iLq"
      },
      "execution_count": null,
      "outputs": []
    },
    {
      "cell_type": "code",
      "source": [
        "df.describe"
      ],
      "metadata": {
        "id": "cAO_a-mv5Tq-"
      },
      "execution_count": null,
      "outputs": []
    },
    {
      "cell_type": "code",
      "source": [
        "sns.histplot(x='Sum', hue='DayOfWeek', data=df, multiple='stack')"
      ],
      "metadata": {
        "id": "5ojIyg6T2J7F"
      },
      "execution_count": null,
      "outputs": []
    },
    {
      "cell_type": "code",
      "source": [
        "import pandas as pd\n",
        "import matplotlib.pyplot as plt\n",
        "import numpy as np\n",
        "\n",
        "# Load the data into a pandas DataFrame\n",
        "df = pd.read_csv(\"stops.csv\", parse_dates=[0], index_col=0)\n",
        "\n",
        "# Calculate the mean and standard deviation for each column\n",
        "means = df.mean()\n",
        "stds = df.std()\n",
        "\n",
        "# Create a line chart for each column\n",
        "for col in df.columns[1:]:\n",
        "    fig, ax = plt.subplots(figsize=(12,6))\n",
        "    ax.plot(df.index, df[col], label=col)\n",
        "    ax.plot(df.index, df[col].rolling(window=14).mean(), label='14-day Rolling Mean')\n",
        "    ax.plot(df.index, [means[col]] * len(df), label='Mean', linestyle='--')\n",
        "    ax.plot(df.index, [means[col] + stds[col]] * len(df), label='1 Std Dev', linestyle='--', color='orange')\n",
        "    ax.plot(df.index, [means[col] + 2*stds[col]] * len(df), label='2 Std Dev', linestyle='--', color='red')\n",
        "    ax.plot(df.index, [means[col] - stds[col]] * len(df), label='-1 Std Dev', linestyle='--', color='orange')\n",
        "    ax.plot(df.index, [means[col] - 2*stds[col]] * len(df), label='-2 Std Dev', linestyle='--', color='red')\n",
        "    x_recent = df.index[-30:].astype(np.int64) // 10 ** 9  # Convert datetime to Unix timestamp\n",
        "    y_recent = df[col][-30:]\n",
        "    ax.plot(x_recent, np.poly1d(np.polyfit(x_recent, y_recent, 1))(x_recent), label='Most Recent 30-Day Trend')\n",
        "    ax.set_xlabel('Date')\n",
        "    ax.set_ylabel(col)\n",
        "    ax.legend()\n",
        "\n",
        "# Display the plot\n",
        "plt.show()\n"
      ],
      "metadata": {
        "id": "t0cfT2by2vm8"
      },
      "execution_count": null,
      "outputs": []
    },
    {
      "cell_type": "code",
      "source": [
        "import pandas as pd\n",
        "import matplotlib.pyplot as plt\n",
        "import numpy as np\n",
        "\n",
        "# Load the data into a pandas DataFrame\n",
        "df = pd.read_csv(\"stops.csv\", parse_dates=[0], index_col=0)\n",
        "\n",
        "# Calculate the mean and standard deviation for each column\n",
        "means = df.mean()\n",
        "stds = df.std()\n",
        "\n",
        "# Create a line chart for each column\n",
        "for col in df.columns[1:]:\n",
        "    fig, ax = plt.subplots(figsize=(12,6))\n",
        "    df_recent = df.tail(30)\n",
        "    ax.plot(df_recent.index, df_recent[col], label=col)\n",
        "    ax.plot(df_recent.index, df_recent[col].rolling(window=14).mean(), label='14-day Rolling Mean')\n",
        "    ax.plot(df_recent.index, [means[col]] * len(df_recent.index), label='Mean', linestyle='--')\n",
        "    ax.plot(df_recent.index, [means[col] + stds[col]] * len(df_recent.index), label='1 Std Dev', linestyle='--', color='orange')\n",
        "    ax.plot(df_recent.index, [means[col] + 2*stds[col]] * len(df_recent.index), label='2 Std Dev', linestyle='--', color='red')\n",
        "    ax.plot(df_recent.index, [means[col] - stds[col]] * len(df_recent.index), label='-1 Std Dev', linestyle='--', color='orange')\n",
        "    ax.plot(df_recent.index, [means[col] - 2*stds[col]] * len(df_recent.index), label='-2 Std Dev', linestyle='--', color='red')\n",
        "    x_recent = df_recent.index.astype(np.int64) // 10 ** 9  # Convert datetime to Unix timestamp\n",
        "    y_recent = df_recent[col]\n",
        "    ax.plot(x_recent, np.poly1d(np.polyfit(x_recent, y_recent, 1))(x_recent), label='Most Recent 30-Day Trend')\n",
        "    ax.set_xlabel('Date')\n",
        "    ax.set_ylabel(col)\n",
        "    ax.legend()\n",
        "\n",
        "# Display the plot\n",
        "plt.show()\n"
      ],
      "metadata": {
        "id": "K7Jq3sedMjoG"
      },
      "execution_count": null,
      "outputs": []
    },
    {
      "cell_type": "code",
      "source": [
        "import pandas as pd\n",
        "import matplotlib.pyplot as plt\n",
        "import seaborn as sns\n",
        "\n",
        "# Load the data into a pandas DataFrame\n",
        "df = pd.read_csv(\"stops.csv\", parse_dates=[\"Date\"], index_col=0)\n",
        "\n",
        "# Add a new column with the day of the week (0=Monday, 1=Tuesday, etc.)\n",
        "df['DayOfWeek'] = df.index.dayofweek\n",
        "\n",
        "# Create a new DataFrame with only the data for the most recent day\n",
        "most_recent_day = df.loc[df.index == df.index.max()].copy()\n",
        "most_recent_day.loc[:, 'DayOfWeek'] = most_recent_day.index.dayofweek\n",
        "\n",
        "# Box and whisker plots\n",
        "fig, ax = plt.subplots()\n",
        "df.drop(columns=['Sum']).boxplot(ax=ax)\n",
        "most_recent_day.plot(ax=ax, kind='scatter', x='DayOfWeek', y='Stops per 100 layers', color='red', s=100)\n",
        "for i, row in most_recent_day.iterrows():\n",
        "    ax.text(row['DayOfWeek'] + 0.1, row['Stops per 100 layers'], str(row['Stops per 100 layers']), fontsize=12)\n",
        "plt.title('Box and Whisker Plots')\n",
        "plt.show()\n",
        "\n"
      ],
      "metadata": {
        "id": "ypj2PHHk-_es"
      },
      "execution_count": null,
      "outputs": []
    },
    {
      "cell_type": "code",
      "source": [
        "# Get the most recent day of data\n",
        "most_recent_day = df.loc[df.index == df.index.max()]\n",
        "\n",
        "# Create a new DataFrame with the percentiles of each column for the most recent day\n",
        "percentiles = pd.DataFrame(columns=df.columns)\n",
        "for column in df.columns:\n",
        "    if column != 'DayOfWeek':\n",
        "        percentile = round(df[column].rank(pct=True).loc[most_recent_day.index][0], 2)\n",
        "        percentiles.at[0, column] = percentile\n",
        "\n",
        "# Display the percentiles\n",
        "print('Percentiles for the most recent day:')\n",
        "print(percentiles)\n"
      ],
      "metadata": {
        "id": "V5KLgaa_DbdK"
      },
      "execution_count": null,
      "outputs": []
    },
    {
      "cell_type": "code",
      "source": [
        "from google.colab import files\n",
        "uploaded = files.upload()"
      ],
      "metadata": {
        "id": "tC7bkRhvaw_t"
      },
      "execution_count": null,
      "outputs": []
    },
    {
      "cell_type": "code",
      "source": [
        "from google.colab import drive\n",
        "drive.mount('/content/gdrive')"
      ],
      "metadata": {
        "id": "LpxQz8HjYgqA"
      },
      "execution_count": null,
      "outputs": []
    },
    {
      "cell_type": "code",
      "source": [
        "from google.colab import files\n",
        "uploaded = files.upload()"
      ],
      "metadata": {
        "id": "ySM8S10ZZygU"
      },
      "execution_count": null,
      "outputs": []
    }
  ]
}